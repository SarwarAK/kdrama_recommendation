{
 "cells": [
  {
   "cell_type": "code",
   "execution_count": 1,
   "metadata": {},
   "outputs": [],
   "source": [
    "import pandas as pd"
   ]
  },
  {
   "cell_type": "code",
   "execution_count": 2,
   "metadata": {},
   "outputs": [],
   "source": [
    "import numpy as np"
   ]
  },
  {
   "cell_type": "code",
   "execution_count": 3,
   "metadata": {},
   "outputs": [],
   "source": [
    "import warnings\n",
    "warnings.filterwarnings('ignore')"
   ]
  },
  {
   "cell_type": "code",
   "execution_count": 4,
   "metadata": {},
   "outputs": [],
   "source": [
    "dataset = pd.read_csv(\"koreanTV.csv\")"
   ]
  },
  {
   "cell_type": "code",
   "execution_count": 5,
   "metadata": {},
   "outputs": [
    {
     "data": {
      "text/html": [
       "<div>\n",
       "<style scoped>\n",
       "    .dataframe tbody tr th:only-of-type {\n",
       "        vertical-align: middle;\n",
       "    }\n",
       "\n",
       "    .dataframe tbody tr th {\n",
       "        vertical-align: top;\n",
       "    }\n",
       "\n",
       "    .dataframe thead th {\n",
       "        text-align: right;\n",
       "    }\n",
       "</style>\n",
       "<table border=\"1\" class=\"dataframe\">\n",
       "  <thead>\n",
       "    <tr style=\"text-align: right;\">\n",
       "      <th></th>\n",
       "      <th>Title</th>\n",
       "      <th>Year</th>\n",
       "      <th>Rating</th>\n",
       "      <th>Votes:</th>\n",
       "      <th>Time</th>\n",
       "      <th>Genre</th>\n",
       "      <th>Stars</th>\n",
       "      <th>Short Story</th>\n",
       "    </tr>\n",
       "  </thead>\n",
       "  <tbody>\n",
       "    <tr>\n",
       "      <th>0</th>\n",
       "      <td>Hellbound</td>\n",
       "      <td>(2021– )</td>\n",
       "      <td>6.7</td>\n",
       "      <td>14,032</td>\n",
       "      <td>150 min</td>\n",
       "      <td>Crime, Drama, Fantasy</td>\n",
       "      <td>Yoo Ah-in, Kim Hyun-joo, Jeong Min Park, Jin-a...</td>\n",
       "      <td>\\nPeople hear predictions on when they will di...</td>\n",
       "    </tr>\n",
       "    <tr>\n",
       "      <th>1</th>\n",
       "      <td>Squid Game</td>\n",
       "      <td>(2021– )</td>\n",
       "      <td>8.1</td>\n",
       "      <td>339,931</td>\n",
       "      <td>55 min</td>\n",
       "      <td>Action, Drama, Mystery</td>\n",
       "      <td>Lee Jung-jae, Park Hae-soo, Wi Ha-Joon, Jung H...</td>\n",
       "      <td>\\nHundreds of cash-strapped players accept a s...</td>\n",
       "    </tr>\n",
       "    <tr>\n",
       "      <th>2</th>\n",
       "      <td>My Name</td>\n",
       "      <td>(2021– )</td>\n",
       "      <td>7.9</td>\n",
       "      <td>12,877</td>\n",
       "      <td>50 min</td>\n",
       "      <td>Action, Crime, Drama</td>\n",
       "      <td>Hee-soon Park, Ahn Bo-Hyun, Han So-hee, Kim Sa...</td>\n",
       "      <td>\\nThe story about a woman who joins an organiz...</td>\n",
       "    </tr>\n",
       "    <tr>\n",
       "      <th>3</th>\n",
       "      <td>Miraculous: Tales of Ladybug &amp; Cat Noir</td>\n",
       "      <td>(2015– )</td>\n",
       "      <td>7.7</td>\n",
       "      <td>9,439</td>\n",
       "      <td>20 min</td>\n",
       "      <td>Animation, Action, Adventure</td>\n",
       "      <td>Cristina Valenzuela, Bryce Papenbrook, Keith S...</td>\n",
       "      <td>\\nMarinette and Adrien, two normal teens, tran...</td>\n",
       "    </tr>\n",
       "    <tr>\n",
       "      <th>4</th>\n",
       "      <td>Happiness</td>\n",
       "      <td>(2021– )</td>\n",
       "      <td>8.6</td>\n",
       "      <td>921</td>\n",
       "      <td>-</td>\n",
       "      <td>Action, Fantasy, Thriller</td>\n",
       "      <td>Han Hyo-joo, Park Hyung-Sik, Woo-jin Jo, Lee J...</td>\n",
       "      <td>\\nAn apocalyptic thriller that takes place in ...</td>\n",
       "    </tr>\n",
       "  </tbody>\n",
       "</table>\n",
       "</div>"
      ],
      "text/plain": [
       "                                     Title      Year Rating   Votes:     Time  \\\n",
       "0                                Hellbound  (2021– )    6.7   14,032  150 min   \n",
       "1                               Squid Game  (2021– )    8.1  339,931   55 min   \n",
       "2                                  My Name  (2021– )    7.9   12,877   50 min   \n",
       "3  Miraculous: Tales of Ladybug & Cat Noir  (2015– )    7.7    9,439   20 min   \n",
       "4                                Happiness  (2021– )    8.6      921        -   \n",
       "\n",
       "                          Genre  \\\n",
       "0         Crime, Drama, Fantasy   \n",
       "1        Action, Drama, Mystery   \n",
       "2          Action, Crime, Drama   \n",
       "3  Animation, Action, Adventure   \n",
       "4     Action, Fantasy, Thriller   \n",
       "\n",
       "                                               Stars  \\\n",
       "0  Yoo Ah-in, Kim Hyun-joo, Jeong Min Park, Jin-a...   \n",
       "1  Lee Jung-jae, Park Hae-soo, Wi Ha-Joon, Jung H...   \n",
       "2  Hee-soon Park, Ahn Bo-Hyun, Han So-hee, Kim Sa...   \n",
       "3  Cristina Valenzuela, Bryce Papenbrook, Keith S...   \n",
       "4  Han Hyo-joo, Park Hyung-Sik, Woo-jin Jo, Lee J...   \n",
       "\n",
       "                                         Short Story  \n",
       "0  \\nPeople hear predictions on when they will di...  \n",
       "1  \\nHundreds of cash-strapped players accept a s...  \n",
       "2  \\nThe story about a woman who joins an organiz...  \n",
       "3  \\nMarinette and Adrien, two normal teens, tran...  \n",
       "4  \\nAn apocalyptic thriller that takes place in ...  "
      ]
     },
     "execution_count": 5,
     "metadata": {},
     "output_type": "execute_result"
    }
   ],
   "source": [
    "dataset.head()"
   ]
  },
  {
   "cell_type": "code",
   "execution_count": 6,
   "metadata": {},
   "outputs": [
    {
     "name": "stdout",
     "output_type": "stream",
     "text": [
      "<class 'pandas.core.frame.DataFrame'>\n",
      "RangeIndex: 1989 entries, 0 to 1988\n",
      "Data columns (total 8 columns):\n",
      " #   Column       Non-Null Count  Dtype \n",
      "---  ------       --------------  ----- \n",
      " 0   Title        1989 non-null   object\n",
      " 1   Year         1978 non-null   object\n",
      " 2   Rating       1989 non-null   object\n",
      " 3   Votes:       1989 non-null   object\n",
      " 4   Time         1989 non-null   object\n",
      " 5   Genre        1989 non-null   object\n",
      " 6   Stars        1989 non-null   object\n",
      " 7   Short Story  1989 non-null   object\n",
      "dtypes: object(8)\n",
      "memory usage: 124.4+ KB\n"
     ]
    }
   ],
   "source": [
    "dataset.info()"
   ]
  },
  {
   "cell_type": "code",
   "execution_count": 7,
   "metadata": {},
   "outputs": [
    {
     "data": {
      "text/plain": [
       "Title           0\n",
       "Year           11\n",
       "Rating          0\n",
       "Votes:          0\n",
       "Time            0\n",
       "Genre           0\n",
       "Stars           0\n",
       "Short Story     0\n",
       "dtype: int64"
      ]
     },
     "execution_count": 7,
     "metadata": {},
     "output_type": "execute_result"
    }
   ],
   "source": [
    "dataset.isnull().sum()"
   ]
  },
  {
   "cell_type": "code",
   "execution_count": 8,
   "metadata": {},
   "outputs": [],
   "source": [
    "dataset.dropna(inplace=True)"
   ]
  },
  {
   "cell_type": "code",
   "execution_count": 9,
   "metadata": {},
   "outputs": [
    {
     "data": {
      "text/plain": [
       "14"
      ]
     },
     "execution_count": 9,
     "metadata": {},
     "output_type": "execute_result"
    }
   ],
   "source": [
    "dataset[\"Title\"].duplicated().sum()"
   ]
  },
  {
   "cell_type": "code",
   "execution_count": 10,
   "metadata": {},
   "outputs": [],
   "source": [
    "dataset['Year'] = dataset['Year'].astype('str').str.extractall('(\\d+)').unstack().fillna('').sum(axis=1).astype(int)"
   ]
  },
  {
   "cell_type": "code",
   "execution_count": 11,
   "metadata": {},
   "outputs": [
    {
     "data": {
      "text/html": [
       "<div>\n",
       "<style scoped>\n",
       "    .dataframe tbody tr th:only-of-type {\n",
       "        vertical-align: middle;\n",
       "    }\n",
       "\n",
       "    .dataframe tbody tr th {\n",
       "        vertical-align: top;\n",
       "    }\n",
       "\n",
       "    .dataframe thead th {\n",
       "        text-align: right;\n",
       "    }\n",
       "</style>\n",
       "<table border=\"1\" class=\"dataframe\">\n",
       "  <thead>\n",
       "    <tr style=\"text-align: right;\">\n",
       "      <th></th>\n",
       "      <th>Title</th>\n",
       "      <th>Year</th>\n",
       "      <th>Rating</th>\n",
       "      <th>Votes:</th>\n",
       "      <th>Time</th>\n",
       "      <th>Genre</th>\n",
       "      <th>Stars</th>\n",
       "      <th>Short Story</th>\n",
       "    </tr>\n",
       "  </thead>\n",
       "  <tbody>\n",
       "    <tr>\n",
       "      <th>0</th>\n",
       "      <td>Hellbound</td>\n",
       "      <td>2021</td>\n",
       "      <td>6.7</td>\n",
       "      <td>14,032</td>\n",
       "      <td>150 min</td>\n",
       "      <td>Crime, Drama, Fantasy</td>\n",
       "      <td>Yoo Ah-in, Kim Hyun-joo, Jeong Min Park, Jin-a...</td>\n",
       "      <td>\\nPeople hear predictions on when they will di...</td>\n",
       "    </tr>\n",
       "    <tr>\n",
       "      <th>1</th>\n",
       "      <td>Squid Game</td>\n",
       "      <td>2021</td>\n",
       "      <td>8.1</td>\n",
       "      <td>339,931</td>\n",
       "      <td>55 min</td>\n",
       "      <td>Action, Drama, Mystery</td>\n",
       "      <td>Lee Jung-jae, Park Hae-soo, Wi Ha-Joon, Jung H...</td>\n",
       "      <td>\\nHundreds of cash-strapped players accept a s...</td>\n",
       "    </tr>\n",
       "    <tr>\n",
       "      <th>2</th>\n",
       "      <td>My Name</td>\n",
       "      <td>2021</td>\n",
       "      <td>7.9</td>\n",
       "      <td>12,877</td>\n",
       "      <td>50 min</td>\n",
       "      <td>Action, Crime, Drama</td>\n",
       "      <td>Hee-soon Park, Ahn Bo-Hyun, Han So-hee, Kim Sa...</td>\n",
       "      <td>\\nThe story about a woman who joins an organiz...</td>\n",
       "    </tr>\n",
       "    <tr>\n",
       "      <th>3</th>\n",
       "      <td>Miraculous: Tales of Ladybug &amp; Cat Noir</td>\n",
       "      <td>2015</td>\n",
       "      <td>7.7</td>\n",
       "      <td>9,439</td>\n",
       "      <td>20 min</td>\n",
       "      <td>Animation, Action, Adventure</td>\n",
       "      <td>Cristina Valenzuela, Bryce Papenbrook, Keith S...</td>\n",
       "      <td>\\nMarinette and Adrien, two normal teens, tran...</td>\n",
       "    </tr>\n",
       "    <tr>\n",
       "      <th>4</th>\n",
       "      <td>Happiness</td>\n",
       "      <td>2021</td>\n",
       "      <td>8.6</td>\n",
       "      <td>921</td>\n",
       "      <td>-</td>\n",
       "      <td>Action, Fantasy, Thriller</td>\n",
       "      <td>Han Hyo-joo, Park Hyung-Sik, Woo-jin Jo, Lee J...</td>\n",
       "      <td>\\nAn apocalyptic thriller that takes place in ...</td>\n",
       "    </tr>\n",
       "    <tr>\n",
       "      <th>...</th>\n",
       "      <td>...</td>\n",
       "      <td>...</td>\n",
       "      <td>...</td>\n",
       "      <td>...</td>\n",
       "      <td>...</td>\n",
       "      <td>...</td>\n",
       "      <td>...</td>\n",
       "      <td>...</td>\n",
       "    </tr>\n",
       "    <tr>\n",
       "      <th>1983</th>\n",
       "      <td>Dangsinyeopi joha</td>\n",
       "      <td>2002</td>\n",
       "      <td>-</td>\n",
       "      <td>-</td>\n",
       "      <td>-</td>\n",
       "      <td>Drama</td>\n",
       "      <td>-</td>\n",
       "      <td>\\nAdd a Plot\\n</td>\n",
       "    </tr>\n",
       "    <tr>\n",
       "      <th>1985</th>\n",
       "      <td>Bite Sisters</td>\n",
       "      <td>2021</td>\n",
       "      <td>7.4</td>\n",
       "      <td>5</td>\n",
       "      <td>-</td>\n",
       "      <td>Fantasy, Romance</td>\n",
       "      <td>Kang Han-na, Kim Yeong-Ah, Yu-hwa Choi, Lee Si...</td>\n",
       "      <td>\\nThis story follows Han Yi Na a vampire who s...</td>\n",
       "    </tr>\n",
       "    <tr>\n",
       "      <th>1986</th>\n",
       "      <td>Adult Trainee</td>\n",
       "      <td>2021</td>\n",
       "      <td>7.1</td>\n",
       "      <td>10</td>\n",
       "      <td>-</td>\n",
       "      <td>Comedy, Romance</td>\n",
       "      <td>Mi-Yeon Cho, Ryu Eui-Hyun, Lee Chan Hyung, Yoo...</td>\n",
       "      <td>\\nAdd a Plot\\n</td>\n",
       "    </tr>\n",
       "    <tr>\n",
       "      <th>1987</th>\n",
       "      <td>A good supper</td>\n",
       "      <td>2021</td>\n",
       "      <td>-</td>\n",
       "      <td>-</td>\n",
       "      <td>-</td>\n",
       "      <td>Romance</td>\n",
       "      <td>-</td>\n",
       "      <td>\\nAdd a Plot\\n</td>\n",
       "    </tr>\n",
       "    <tr>\n",
       "      <th>1988</th>\n",
       "      <td>User Not Found</td>\n",
       "      <td>2021</td>\n",
       "      <td>-</td>\n",
       "      <td>-</td>\n",
       "      <td>-</td>\n",
       "      <td>Drama, Romance</td>\n",
       "      <td>-</td>\n",
       "      <td>\\nAdd a Plot\\n</td>\n",
       "    </tr>\n",
       "  </tbody>\n",
       "</table>\n",
       "<p>1978 rows × 8 columns</p>\n",
       "</div>"
      ],
      "text/plain": [
       "                                        Title  Year Rating   Votes:     Time  \\\n",
       "0                                   Hellbound  2021    6.7   14,032  150 min   \n",
       "1                                  Squid Game  2021    8.1  339,931   55 min   \n",
       "2                                     My Name  2021    7.9   12,877   50 min   \n",
       "3     Miraculous: Tales of Ladybug & Cat Noir  2015    7.7    9,439   20 min   \n",
       "4                                   Happiness  2021    8.6      921        -   \n",
       "...                                       ...   ...    ...      ...      ...   \n",
       "1983                        Dangsinyeopi joha  2002      -        -        -   \n",
       "1985                             Bite Sisters  2021    7.4        5        -   \n",
       "1986                            Adult Trainee  2021    7.1       10        -   \n",
       "1987                            A good supper  2021      -        -        -   \n",
       "1988                           User Not Found  2021      -        -        -   \n",
       "\n",
       "                             Genre  \\\n",
       "0            Crime, Drama, Fantasy   \n",
       "1           Action, Drama, Mystery   \n",
       "2             Action, Crime, Drama   \n",
       "3     Animation, Action, Adventure   \n",
       "4        Action, Fantasy, Thriller   \n",
       "...                            ...   \n",
       "1983                         Drama   \n",
       "1985              Fantasy, Romance   \n",
       "1986               Comedy, Romance   \n",
       "1987                       Romance   \n",
       "1988                Drama, Romance   \n",
       "\n",
       "                                                  Stars  \\\n",
       "0     Yoo Ah-in, Kim Hyun-joo, Jeong Min Park, Jin-a...   \n",
       "1     Lee Jung-jae, Park Hae-soo, Wi Ha-Joon, Jung H...   \n",
       "2     Hee-soon Park, Ahn Bo-Hyun, Han So-hee, Kim Sa...   \n",
       "3     Cristina Valenzuela, Bryce Papenbrook, Keith S...   \n",
       "4     Han Hyo-joo, Park Hyung-Sik, Woo-jin Jo, Lee J...   \n",
       "...                                                 ...   \n",
       "1983                                                  -   \n",
       "1985  Kang Han-na, Kim Yeong-Ah, Yu-hwa Choi, Lee Si...   \n",
       "1986  Mi-Yeon Cho, Ryu Eui-Hyun, Lee Chan Hyung, Yoo...   \n",
       "1987                                                  -   \n",
       "1988                                                  -   \n",
       "\n",
       "                                            Short Story  \n",
       "0     \\nPeople hear predictions on when they will di...  \n",
       "1     \\nHundreds of cash-strapped players accept a s...  \n",
       "2     \\nThe story about a woman who joins an organiz...  \n",
       "3     \\nMarinette and Adrien, two normal teens, tran...  \n",
       "4     \\nAn apocalyptic thriller that takes place in ...  \n",
       "...                                                 ...  \n",
       "1983                                     \\nAdd a Plot\\n  \n",
       "1985  \\nThis story follows Han Yi Na a vampire who s...  \n",
       "1986                                     \\nAdd a Plot\\n  \n",
       "1987                                     \\nAdd a Plot\\n  \n",
       "1988                                     \\nAdd a Plot\\n  \n",
       "\n",
       "[1978 rows x 8 columns]"
      ]
     },
     "execution_count": 11,
     "metadata": {},
     "output_type": "execute_result"
    }
   ],
   "source": [
    "dataset"
   ]
  },
  {
   "cell_type": "code",
   "execution_count": 12,
   "metadata": {},
   "outputs": [],
   "source": [
    "dataset=dataset[['Title','Genre','Stars','Short Story']]"
   ]
  },
  {
   "cell_type": "code",
   "execution_count": 13,
   "metadata": {},
   "outputs": [
    {
     "data": {
      "text/html": [
       "<div>\n",
       "<style scoped>\n",
       "    .dataframe tbody tr th:only-of-type {\n",
       "        vertical-align: middle;\n",
       "    }\n",
       "\n",
       "    .dataframe tbody tr th {\n",
       "        vertical-align: top;\n",
       "    }\n",
       "\n",
       "    .dataframe thead th {\n",
       "        text-align: right;\n",
       "    }\n",
       "</style>\n",
       "<table border=\"1\" class=\"dataframe\">\n",
       "  <thead>\n",
       "    <tr style=\"text-align: right;\">\n",
       "      <th></th>\n",
       "      <th>Title</th>\n",
       "      <th>Genre</th>\n",
       "      <th>Stars</th>\n",
       "      <th>Short Story</th>\n",
       "    </tr>\n",
       "  </thead>\n",
       "  <tbody>\n",
       "    <tr>\n",
       "      <th>0</th>\n",
       "      <td>Hellbound</td>\n",
       "      <td>Crime, Drama, Fantasy</td>\n",
       "      <td>Yoo Ah-in, Kim Hyun-joo, Jeong Min Park, Jin-a...</td>\n",
       "      <td>\\nPeople hear predictions on when they will di...</td>\n",
       "    </tr>\n",
       "    <tr>\n",
       "      <th>1</th>\n",
       "      <td>Squid Game</td>\n",
       "      <td>Action, Drama, Mystery</td>\n",
       "      <td>Lee Jung-jae, Park Hae-soo, Wi Ha-Joon, Jung H...</td>\n",
       "      <td>\\nHundreds of cash-strapped players accept a s...</td>\n",
       "    </tr>\n",
       "    <tr>\n",
       "      <th>2</th>\n",
       "      <td>My Name</td>\n",
       "      <td>Action, Crime, Drama</td>\n",
       "      <td>Hee-soon Park, Ahn Bo-Hyun, Han So-hee, Kim Sa...</td>\n",
       "      <td>\\nThe story about a woman who joins an organiz...</td>\n",
       "    </tr>\n",
       "    <tr>\n",
       "      <th>3</th>\n",
       "      <td>Miraculous: Tales of Ladybug &amp; Cat Noir</td>\n",
       "      <td>Animation, Action, Adventure</td>\n",
       "      <td>Cristina Valenzuela, Bryce Papenbrook, Keith S...</td>\n",
       "      <td>\\nMarinette and Adrien, two normal teens, tran...</td>\n",
       "    </tr>\n",
       "    <tr>\n",
       "      <th>4</th>\n",
       "      <td>Happiness</td>\n",
       "      <td>Action, Fantasy, Thriller</td>\n",
       "      <td>Han Hyo-joo, Park Hyung-Sik, Woo-jin Jo, Lee J...</td>\n",
       "      <td>\\nAn apocalyptic thriller that takes place in ...</td>\n",
       "    </tr>\n",
       "    <tr>\n",
       "      <th>...</th>\n",
       "      <td>...</td>\n",
       "      <td>...</td>\n",
       "      <td>...</td>\n",
       "      <td>...</td>\n",
       "    </tr>\n",
       "    <tr>\n",
       "      <th>1983</th>\n",
       "      <td>Dangsinyeopi joha</td>\n",
       "      <td>Drama</td>\n",
       "      <td>-</td>\n",
       "      <td>\\nAdd a Plot\\n</td>\n",
       "    </tr>\n",
       "    <tr>\n",
       "      <th>1985</th>\n",
       "      <td>Bite Sisters</td>\n",
       "      <td>Fantasy, Romance</td>\n",
       "      <td>Kang Han-na, Kim Yeong-Ah, Yu-hwa Choi, Lee Si...</td>\n",
       "      <td>\\nThis story follows Han Yi Na a vampire who s...</td>\n",
       "    </tr>\n",
       "    <tr>\n",
       "      <th>1986</th>\n",
       "      <td>Adult Trainee</td>\n",
       "      <td>Comedy, Romance</td>\n",
       "      <td>Mi-Yeon Cho, Ryu Eui-Hyun, Lee Chan Hyung, Yoo...</td>\n",
       "      <td>\\nAdd a Plot\\n</td>\n",
       "    </tr>\n",
       "    <tr>\n",
       "      <th>1987</th>\n",
       "      <td>A good supper</td>\n",
       "      <td>Romance</td>\n",
       "      <td>-</td>\n",
       "      <td>\\nAdd a Plot\\n</td>\n",
       "    </tr>\n",
       "    <tr>\n",
       "      <th>1988</th>\n",
       "      <td>User Not Found</td>\n",
       "      <td>Drama, Romance</td>\n",
       "      <td>-</td>\n",
       "      <td>\\nAdd a Plot\\n</td>\n",
       "    </tr>\n",
       "  </tbody>\n",
       "</table>\n",
       "<p>1978 rows × 4 columns</p>\n",
       "</div>"
      ],
      "text/plain": [
       "                                        Title                         Genre  \\\n",
       "0                                   Hellbound         Crime, Drama, Fantasy   \n",
       "1                                  Squid Game        Action, Drama, Mystery   \n",
       "2                                     My Name          Action, Crime, Drama   \n",
       "3     Miraculous: Tales of Ladybug & Cat Noir  Animation, Action, Adventure   \n",
       "4                                   Happiness     Action, Fantasy, Thriller   \n",
       "...                                       ...                           ...   \n",
       "1983                        Dangsinyeopi joha                         Drama   \n",
       "1985                             Bite Sisters              Fantasy, Romance   \n",
       "1986                            Adult Trainee               Comedy, Romance   \n",
       "1987                            A good supper                       Romance   \n",
       "1988                           User Not Found                Drama, Romance   \n",
       "\n",
       "                                                  Stars  \\\n",
       "0     Yoo Ah-in, Kim Hyun-joo, Jeong Min Park, Jin-a...   \n",
       "1     Lee Jung-jae, Park Hae-soo, Wi Ha-Joon, Jung H...   \n",
       "2     Hee-soon Park, Ahn Bo-Hyun, Han So-hee, Kim Sa...   \n",
       "3     Cristina Valenzuela, Bryce Papenbrook, Keith S...   \n",
       "4     Han Hyo-joo, Park Hyung-Sik, Woo-jin Jo, Lee J...   \n",
       "...                                                 ...   \n",
       "1983                                                  -   \n",
       "1985  Kang Han-na, Kim Yeong-Ah, Yu-hwa Choi, Lee Si...   \n",
       "1986  Mi-Yeon Cho, Ryu Eui-Hyun, Lee Chan Hyung, Yoo...   \n",
       "1987                                                  -   \n",
       "1988                                                  -   \n",
       "\n",
       "                                            Short Story  \n",
       "0     \\nPeople hear predictions on when they will di...  \n",
       "1     \\nHundreds of cash-strapped players accept a s...  \n",
       "2     \\nThe story about a woman who joins an organiz...  \n",
       "3     \\nMarinette and Adrien, two normal teens, tran...  \n",
       "4     \\nAn apocalyptic thriller that takes place in ...  \n",
       "...                                                 ...  \n",
       "1983                                     \\nAdd a Plot\\n  \n",
       "1985  \\nThis story follows Han Yi Na a vampire who s...  \n",
       "1986                                     \\nAdd a Plot\\n  \n",
       "1987                                     \\nAdd a Plot\\n  \n",
       "1988                                     \\nAdd a Plot\\n  \n",
       "\n",
       "[1978 rows x 4 columns]"
      ]
     },
     "execution_count": 13,
     "metadata": {},
     "output_type": "execute_result"
    }
   ],
   "source": [
    "dataset"
   ]
  },
  {
   "cell_type": "code",
   "execution_count": 14,
   "metadata": {},
   "outputs": [],
   "source": [
    "dataset['Short Story']=dataset['Short Story'].replace('\\n',' ', regex=True)"
   ]
  },
  {
   "cell_type": "code",
   "execution_count": 15,
   "metadata": {},
   "outputs": [],
   "source": [
    "filt=dataset[\"Stars\"]==\"-\"\n",
    "dataset['Stars'][filt]=\"\""
   ]
  },
  {
   "cell_type": "code",
   "execution_count": 16,
   "metadata": {},
   "outputs": [
    {
     "data": {
      "text/html": [
       "<div>\n",
       "<style scoped>\n",
       "    .dataframe tbody tr th:only-of-type {\n",
       "        vertical-align: middle;\n",
       "    }\n",
       "\n",
       "    .dataframe tbody tr th {\n",
       "        vertical-align: top;\n",
       "    }\n",
       "\n",
       "    .dataframe thead th {\n",
       "        text-align: right;\n",
       "    }\n",
       "</style>\n",
       "<table border=\"1\" class=\"dataframe\">\n",
       "  <thead>\n",
       "    <tr style=\"text-align: right;\">\n",
       "      <th></th>\n",
       "      <th>Title</th>\n",
       "      <th>Genre</th>\n",
       "      <th>Stars</th>\n",
       "      <th>Short Story</th>\n",
       "    </tr>\n",
       "  </thead>\n",
       "  <tbody>\n",
       "    <tr>\n",
       "      <th>0</th>\n",
       "      <td>Hellbound</td>\n",
       "      <td>Crime, Drama, Fantasy</td>\n",
       "      <td>Yoo Ah-in, Kim Hyun-joo, Jeong Min Park, Jin-a...</td>\n",
       "      <td>People hear predictions on when they will die...</td>\n",
       "    </tr>\n",
       "    <tr>\n",
       "      <th>1</th>\n",
       "      <td>Squid Game</td>\n",
       "      <td>Action, Drama, Mystery</td>\n",
       "      <td>Lee Jung-jae, Park Hae-soo, Wi Ha-Joon, Jung H...</td>\n",
       "      <td>Hundreds of cash-strapped players accept a st...</td>\n",
       "    </tr>\n",
       "    <tr>\n",
       "      <th>2</th>\n",
       "      <td>My Name</td>\n",
       "      <td>Action, Crime, Drama</td>\n",
       "      <td>Hee-soon Park, Ahn Bo-Hyun, Han So-hee, Kim Sa...</td>\n",
       "      <td>The story about a woman who joins an organize...</td>\n",
       "    </tr>\n",
       "    <tr>\n",
       "      <th>3</th>\n",
       "      <td>Miraculous: Tales of Ladybug &amp; Cat Noir</td>\n",
       "      <td>Animation, Action, Adventure</td>\n",
       "      <td>Cristina Valenzuela, Bryce Papenbrook, Keith S...</td>\n",
       "      <td>Marinette and Adrien, two normal teens, trans...</td>\n",
       "    </tr>\n",
       "    <tr>\n",
       "      <th>4</th>\n",
       "      <td>Happiness</td>\n",
       "      <td>Action, Fantasy, Thriller</td>\n",
       "      <td>Han Hyo-joo, Park Hyung-Sik, Woo-jin Jo, Lee J...</td>\n",
       "      <td>An apocalyptic thriller that takes place in a...</td>\n",
       "    </tr>\n",
       "    <tr>\n",
       "      <th>...</th>\n",
       "      <td>...</td>\n",
       "      <td>...</td>\n",
       "      <td>...</td>\n",
       "      <td>...</td>\n",
       "    </tr>\n",
       "    <tr>\n",
       "      <th>1983</th>\n",
       "      <td>Dangsinyeopi joha</td>\n",
       "      <td>Drama</td>\n",
       "      <td></td>\n",
       "      <td>Add a Plot</td>\n",
       "    </tr>\n",
       "    <tr>\n",
       "      <th>1985</th>\n",
       "      <td>Bite Sisters</td>\n",
       "      <td>Fantasy, Romance</td>\n",
       "      <td>Kang Han-na, Kim Yeong-Ah, Yu-hwa Choi, Lee Si...</td>\n",
       "      <td>This story follows Han Yi Na a vampire who su...</td>\n",
       "    </tr>\n",
       "    <tr>\n",
       "      <th>1986</th>\n",
       "      <td>Adult Trainee</td>\n",
       "      <td>Comedy, Romance</td>\n",
       "      <td>Mi-Yeon Cho, Ryu Eui-Hyun, Lee Chan Hyung, Yoo...</td>\n",
       "      <td>Add a Plot</td>\n",
       "    </tr>\n",
       "    <tr>\n",
       "      <th>1987</th>\n",
       "      <td>A good supper</td>\n",
       "      <td>Romance</td>\n",
       "      <td></td>\n",
       "      <td>Add a Plot</td>\n",
       "    </tr>\n",
       "    <tr>\n",
       "      <th>1988</th>\n",
       "      <td>User Not Found</td>\n",
       "      <td>Drama, Romance</td>\n",
       "      <td></td>\n",
       "      <td>Add a Plot</td>\n",
       "    </tr>\n",
       "  </tbody>\n",
       "</table>\n",
       "<p>1978 rows × 4 columns</p>\n",
       "</div>"
      ],
      "text/plain": [
       "                                        Title                         Genre  \\\n",
       "0                                   Hellbound         Crime, Drama, Fantasy   \n",
       "1                                  Squid Game        Action, Drama, Mystery   \n",
       "2                                     My Name          Action, Crime, Drama   \n",
       "3     Miraculous: Tales of Ladybug & Cat Noir  Animation, Action, Adventure   \n",
       "4                                   Happiness     Action, Fantasy, Thriller   \n",
       "...                                       ...                           ...   \n",
       "1983                        Dangsinyeopi joha                         Drama   \n",
       "1985                             Bite Sisters              Fantasy, Romance   \n",
       "1986                            Adult Trainee               Comedy, Romance   \n",
       "1987                            A good supper                       Romance   \n",
       "1988                           User Not Found                Drama, Romance   \n",
       "\n",
       "                                                  Stars  \\\n",
       "0     Yoo Ah-in, Kim Hyun-joo, Jeong Min Park, Jin-a...   \n",
       "1     Lee Jung-jae, Park Hae-soo, Wi Ha-Joon, Jung H...   \n",
       "2     Hee-soon Park, Ahn Bo-Hyun, Han So-hee, Kim Sa...   \n",
       "3     Cristina Valenzuela, Bryce Papenbrook, Keith S...   \n",
       "4     Han Hyo-joo, Park Hyung-Sik, Woo-jin Jo, Lee J...   \n",
       "...                                                 ...   \n",
       "1983                                                      \n",
       "1985  Kang Han-na, Kim Yeong-Ah, Yu-hwa Choi, Lee Si...   \n",
       "1986  Mi-Yeon Cho, Ryu Eui-Hyun, Lee Chan Hyung, Yoo...   \n",
       "1987                                                      \n",
       "1988                                                      \n",
       "\n",
       "                                            Short Story  \n",
       "0      People hear predictions on when they will die...  \n",
       "1      Hundreds of cash-strapped players accept a st...  \n",
       "2      The story about a woman who joins an organize...  \n",
       "3      Marinette and Adrien, two normal teens, trans...  \n",
       "4      An apocalyptic thriller that takes place in a...  \n",
       "...                                                 ...  \n",
       "1983                                        Add a Plot   \n",
       "1985   This story follows Han Yi Na a vampire who su...  \n",
       "1986                                        Add a Plot   \n",
       "1987                                        Add a Plot   \n",
       "1988                                        Add a Plot   \n",
       "\n",
       "[1978 rows x 4 columns]"
      ]
     },
     "execution_count": 16,
     "metadata": {},
     "output_type": "execute_result"
    }
   ],
   "source": [
    "dataset"
   ]
  },
  {
   "cell_type": "code",
   "execution_count": 17,
   "metadata": {},
   "outputs": [],
   "source": [
    "filt2=dataset[\"Short Story\"].str.contains(\"Add\")"
   ]
  },
  {
   "cell_type": "code",
   "execution_count": 18,
   "metadata": {},
   "outputs": [],
   "source": [
    "dataset[\"Short Story\"][filt2]=\"\""
   ]
  },
  {
   "cell_type": "code",
   "execution_count": 19,
   "metadata": {},
   "outputs": [],
   "source": [
    "filt3=dataset[\"Title\"].str.contains(\"User\")"
   ]
  },
  {
   "cell_type": "code",
   "execution_count": 20,
   "metadata": {},
   "outputs": [],
   "source": [
    "dataset.drop(dataset[filt3].index,inplace=True)\n"
   ]
  },
  {
   "cell_type": "code",
   "execution_count": 21,
   "metadata": {},
   "outputs": [
    {
     "data": {
      "text/html": [
       "<div>\n",
       "<style scoped>\n",
       "    .dataframe tbody tr th:only-of-type {\n",
       "        vertical-align: middle;\n",
       "    }\n",
       "\n",
       "    .dataframe tbody tr th {\n",
       "        vertical-align: top;\n",
       "    }\n",
       "\n",
       "    .dataframe thead th {\n",
       "        text-align: right;\n",
       "    }\n",
       "</style>\n",
       "<table border=\"1\" class=\"dataframe\">\n",
       "  <thead>\n",
       "    <tr style=\"text-align: right;\">\n",
       "      <th></th>\n",
       "      <th>Title</th>\n",
       "      <th>Genre</th>\n",
       "      <th>Stars</th>\n",
       "      <th>Short Story</th>\n",
       "    </tr>\n",
       "  </thead>\n",
       "  <tbody>\n",
       "    <tr>\n",
       "      <th>0</th>\n",
       "      <td>Hellbound</td>\n",
       "      <td>Crime, Drama, Fantasy</td>\n",
       "      <td>Yoo Ah-in, Kim Hyun-joo, Jeong Min Park, Jin-a...</td>\n",
       "      <td>People hear predictions on when they will die...</td>\n",
       "    </tr>\n",
       "    <tr>\n",
       "      <th>1</th>\n",
       "      <td>Squid Game</td>\n",
       "      <td>Action, Drama, Mystery</td>\n",
       "      <td>Lee Jung-jae, Park Hae-soo, Wi Ha-Joon, Jung H...</td>\n",
       "      <td>Hundreds of cash-strapped players accept a st...</td>\n",
       "    </tr>\n",
       "    <tr>\n",
       "      <th>2</th>\n",
       "      <td>My Name</td>\n",
       "      <td>Action, Crime, Drama</td>\n",
       "      <td>Hee-soon Park, Ahn Bo-Hyun, Han So-hee, Kim Sa...</td>\n",
       "      <td>The story about a woman who joins an organize...</td>\n",
       "    </tr>\n",
       "    <tr>\n",
       "      <th>3</th>\n",
       "      <td>Miraculous: Tales of Ladybug &amp; Cat Noir</td>\n",
       "      <td>Animation, Action, Adventure</td>\n",
       "      <td>Cristina Valenzuela, Bryce Papenbrook, Keith S...</td>\n",
       "      <td>Marinette and Adrien, two normal teens, trans...</td>\n",
       "    </tr>\n",
       "    <tr>\n",
       "      <th>4</th>\n",
       "      <td>Happiness</td>\n",
       "      <td>Action, Fantasy, Thriller</td>\n",
       "      <td>Han Hyo-joo, Park Hyung-Sik, Woo-jin Jo, Lee J...</td>\n",
       "      <td>An apocalyptic thriller that takes place in a...</td>\n",
       "    </tr>\n",
       "    <tr>\n",
       "      <th>...</th>\n",
       "      <td>...</td>\n",
       "      <td>...</td>\n",
       "      <td>...</td>\n",
       "      <td>...</td>\n",
       "    </tr>\n",
       "    <tr>\n",
       "      <th>1982</th>\n",
       "      <td>Why Couldnt You Get Married</td>\n",
       "      <td>Drama</td>\n",
       "      <td></td>\n",
       "      <td>Marriage is not always a forgone conclusion f...</td>\n",
       "    </tr>\n",
       "    <tr>\n",
       "      <th>1983</th>\n",
       "      <td>Dangsinyeopi joha</td>\n",
       "      <td>Drama</td>\n",
       "      <td></td>\n",
       "      <td></td>\n",
       "    </tr>\n",
       "    <tr>\n",
       "      <th>1985</th>\n",
       "      <td>Bite Sisters</td>\n",
       "      <td>Fantasy, Romance</td>\n",
       "      <td>Kang Han-na, Kim Yeong-Ah, Yu-hwa Choi, Lee Si...</td>\n",
       "      <td>This story follows Han Yi Na a vampire who su...</td>\n",
       "    </tr>\n",
       "    <tr>\n",
       "      <th>1986</th>\n",
       "      <td>Adult Trainee</td>\n",
       "      <td>Comedy, Romance</td>\n",
       "      <td>Mi-Yeon Cho, Ryu Eui-Hyun, Lee Chan Hyung, Yoo...</td>\n",
       "      <td></td>\n",
       "    </tr>\n",
       "    <tr>\n",
       "      <th>1987</th>\n",
       "      <td>A good supper</td>\n",
       "      <td>Romance</td>\n",
       "      <td></td>\n",
       "      <td></td>\n",
       "    </tr>\n",
       "  </tbody>\n",
       "</table>\n",
       "<p>1977 rows × 4 columns</p>\n",
       "</div>"
      ],
      "text/plain": [
       "                                        Title                         Genre  \\\n",
       "0                                   Hellbound         Crime, Drama, Fantasy   \n",
       "1                                  Squid Game        Action, Drama, Mystery   \n",
       "2                                     My Name          Action, Crime, Drama   \n",
       "3     Miraculous: Tales of Ladybug & Cat Noir  Animation, Action, Adventure   \n",
       "4                                   Happiness     Action, Fantasy, Thriller   \n",
       "...                                       ...                           ...   \n",
       "1982              Why Couldnt You Get Married                         Drama   \n",
       "1983                        Dangsinyeopi joha                         Drama   \n",
       "1985                             Bite Sisters              Fantasy, Romance   \n",
       "1986                            Adult Trainee               Comedy, Romance   \n",
       "1987                            A good supper                       Romance   \n",
       "\n",
       "                                                  Stars  \\\n",
       "0     Yoo Ah-in, Kim Hyun-joo, Jeong Min Park, Jin-a...   \n",
       "1     Lee Jung-jae, Park Hae-soo, Wi Ha-Joon, Jung H...   \n",
       "2     Hee-soon Park, Ahn Bo-Hyun, Han So-hee, Kim Sa...   \n",
       "3     Cristina Valenzuela, Bryce Papenbrook, Keith S...   \n",
       "4     Han Hyo-joo, Park Hyung-Sik, Woo-jin Jo, Lee J...   \n",
       "...                                                 ...   \n",
       "1982                                                      \n",
       "1983                                                      \n",
       "1985  Kang Han-na, Kim Yeong-Ah, Yu-hwa Choi, Lee Si...   \n",
       "1986  Mi-Yeon Cho, Ryu Eui-Hyun, Lee Chan Hyung, Yoo...   \n",
       "1987                                                      \n",
       "\n",
       "                                            Short Story  \n",
       "0      People hear predictions on when they will die...  \n",
       "1      Hundreds of cash-strapped players accept a st...  \n",
       "2      The story about a woman who joins an organize...  \n",
       "3      Marinette and Adrien, two normal teens, trans...  \n",
       "4      An apocalyptic thriller that takes place in a...  \n",
       "...                                                 ...  \n",
       "1982   Marriage is not always a forgone conclusion f...  \n",
       "1983                                                     \n",
       "1985   This story follows Han Yi Na a vampire who su...  \n",
       "1986                                                     \n",
       "1987                                                     \n",
       "\n",
       "[1977 rows x 4 columns]"
      ]
     },
     "execution_count": 21,
     "metadata": {},
     "output_type": "execute_result"
    }
   ],
   "source": [
    "dataset"
   ]
  },
  {
   "cell_type": "code",
   "execution_count": 22,
   "metadata": {},
   "outputs": [],
   "source": [
    "dataset[\"Stars\"]=dataset[\"Stars\"].str.split(',')"
   ]
  },
  {
   "cell_type": "code",
   "execution_count": 23,
   "metadata": {},
   "outputs": [
    {
     "data": {
      "text/plain": [
       "['Yoo Ah-in', ' Kim Hyun-joo', ' Jeong Min Park', ' Jin-ah Won']"
      ]
     },
     "execution_count": 23,
     "metadata": {},
     "output_type": "execute_result"
    }
   ],
   "source": [
    "dataset[\"Stars\"][0]"
   ]
  },
  {
   "cell_type": "code",
   "execution_count": 24,
   "metadata": {},
   "outputs": [],
   "source": [
    "dataset['Stars'] = dataset['Stars'].apply(lambda x:x[0:3])\n",
    "dataset['Short Story'] =dataset['Short Story'].apply(lambda x:x.split())\n",
    "dataset['Genre'] =dataset['Genre'].apply(lambda x:x.split(\",\"))\n"
   ]
  },
  {
   "cell_type": "code",
   "execution_count": 25,
   "metadata": {},
   "outputs": [
    {
     "data": {
      "text/html": [
       "<div>\n",
       "<style scoped>\n",
       "    .dataframe tbody tr th:only-of-type {\n",
       "        vertical-align: middle;\n",
       "    }\n",
       "\n",
       "    .dataframe tbody tr th {\n",
       "        vertical-align: top;\n",
       "    }\n",
       "\n",
       "    .dataframe thead th {\n",
       "        text-align: right;\n",
       "    }\n",
       "</style>\n",
       "<table border=\"1\" class=\"dataframe\">\n",
       "  <thead>\n",
       "    <tr style=\"text-align: right;\">\n",
       "      <th></th>\n",
       "      <th>Title</th>\n",
       "      <th>Genre</th>\n",
       "      <th>Stars</th>\n",
       "      <th>Short Story</th>\n",
       "    </tr>\n",
       "  </thead>\n",
       "  <tbody>\n",
       "    <tr>\n",
       "      <th>0</th>\n",
       "      <td>Hellbound</td>\n",
       "      <td>[Crime,  Drama,  Fantasy]</td>\n",
       "      <td>[Yoo Ah-in,  Kim Hyun-joo,  Jeong Min Park]</td>\n",
       "      <td>[People, hear, predictions, on, when, they, wi...</td>\n",
       "    </tr>\n",
       "    <tr>\n",
       "      <th>1</th>\n",
       "      <td>Squid Game</td>\n",
       "      <td>[Action,  Drama,  Mystery]</td>\n",
       "      <td>[Lee Jung-jae,  Park Hae-soo,  Wi Ha-Joon]</td>\n",
       "      <td>[Hundreds, of, cash-strapped, players, accept,...</td>\n",
       "    </tr>\n",
       "    <tr>\n",
       "      <th>2</th>\n",
       "      <td>My Name</td>\n",
       "      <td>[Action,  Crime,  Drama]</td>\n",
       "      <td>[Hee-soon Park,  Ahn Bo-Hyun,  Han So-hee]</td>\n",
       "      <td>[The, story, about, a, woman, who, joins, an, ...</td>\n",
       "    </tr>\n",
       "    <tr>\n",
       "      <th>3</th>\n",
       "      <td>Miraculous: Tales of Ladybug &amp; Cat Noir</td>\n",
       "      <td>[Animation,  Action,  Adventure]</td>\n",
       "      <td>[Cristina Valenzuela,  Bryce Papenbrook,  Keit...</td>\n",
       "      <td>[Marinette, and, Adrien,, two, normal, teens,,...</td>\n",
       "    </tr>\n",
       "    <tr>\n",
       "      <th>4</th>\n",
       "      <td>Happiness</td>\n",
       "      <td>[Action,  Fantasy,  Thriller]</td>\n",
       "      <td>[Han Hyo-joo,  Park Hyung-Sik,  Woo-jin Jo]</td>\n",
       "      <td>[An, apocalyptic, thriller, that, takes, place...</td>\n",
       "    </tr>\n",
       "    <tr>\n",
       "      <th>...</th>\n",
       "      <td>...</td>\n",
       "      <td>...</td>\n",
       "      <td>...</td>\n",
       "      <td>...</td>\n",
       "    </tr>\n",
       "    <tr>\n",
       "      <th>1982</th>\n",
       "      <td>Why Couldnt You Get Married</td>\n",
       "      <td>[Drama]</td>\n",
       "      <td>[]</td>\n",
       "      <td>[Marriage, is, not, always, a, forgone, conclu...</td>\n",
       "    </tr>\n",
       "    <tr>\n",
       "      <th>1983</th>\n",
       "      <td>Dangsinyeopi joha</td>\n",
       "      <td>[Drama]</td>\n",
       "      <td>[]</td>\n",
       "      <td>[]</td>\n",
       "    </tr>\n",
       "    <tr>\n",
       "      <th>1985</th>\n",
       "      <td>Bite Sisters</td>\n",
       "      <td>[Fantasy,  Romance]</td>\n",
       "      <td>[Kang Han-na,  Kim Yeong-Ah,  Yu-hwa Choi]</td>\n",
       "      <td>[This, story, follows, Han, Yi, Na, a, vampire...</td>\n",
       "    </tr>\n",
       "    <tr>\n",
       "      <th>1986</th>\n",
       "      <td>Adult Trainee</td>\n",
       "      <td>[Comedy,  Romance]</td>\n",
       "      <td>[Mi-Yeon Cho,  Ryu Eui-Hyun,  Lee Chan Hyung]</td>\n",
       "      <td>[]</td>\n",
       "    </tr>\n",
       "    <tr>\n",
       "      <th>1987</th>\n",
       "      <td>A good supper</td>\n",
       "      <td>[Romance]</td>\n",
       "      <td>[]</td>\n",
       "      <td>[]</td>\n",
       "    </tr>\n",
       "  </tbody>\n",
       "</table>\n",
       "<p>1977 rows × 4 columns</p>\n",
       "</div>"
      ],
      "text/plain": [
       "                                        Title  \\\n",
       "0                                   Hellbound   \n",
       "1                                  Squid Game   \n",
       "2                                     My Name   \n",
       "3     Miraculous: Tales of Ladybug & Cat Noir   \n",
       "4                                   Happiness   \n",
       "...                                       ...   \n",
       "1982              Why Couldnt You Get Married   \n",
       "1983                        Dangsinyeopi joha   \n",
       "1985                             Bite Sisters   \n",
       "1986                            Adult Trainee   \n",
       "1987                            A good supper   \n",
       "\n",
       "                                 Genre  \\\n",
       "0            [Crime,  Drama,  Fantasy]   \n",
       "1           [Action,  Drama,  Mystery]   \n",
       "2             [Action,  Crime,  Drama]   \n",
       "3     [Animation,  Action,  Adventure]   \n",
       "4        [Action,  Fantasy,  Thriller]   \n",
       "...                                ...   \n",
       "1982                           [Drama]   \n",
       "1983                           [Drama]   \n",
       "1985               [Fantasy,  Romance]   \n",
       "1986                [Comedy,  Romance]   \n",
       "1987                         [Romance]   \n",
       "\n",
       "                                                  Stars  \\\n",
       "0           [Yoo Ah-in,  Kim Hyun-joo,  Jeong Min Park]   \n",
       "1            [Lee Jung-jae,  Park Hae-soo,  Wi Ha-Joon]   \n",
       "2            [Hee-soon Park,  Ahn Bo-Hyun,  Han So-hee]   \n",
       "3     [Cristina Valenzuela,  Bryce Papenbrook,  Keit...   \n",
       "4           [Han Hyo-joo,  Park Hyung-Sik,  Woo-jin Jo]   \n",
       "...                                                 ...   \n",
       "1982                                                 []   \n",
       "1983                                                 []   \n",
       "1985         [Kang Han-na,  Kim Yeong-Ah,  Yu-hwa Choi]   \n",
       "1986      [Mi-Yeon Cho,  Ryu Eui-Hyun,  Lee Chan Hyung]   \n",
       "1987                                                 []   \n",
       "\n",
       "                                            Short Story  \n",
       "0     [People, hear, predictions, on, when, they, wi...  \n",
       "1     [Hundreds, of, cash-strapped, players, accept,...  \n",
       "2     [The, story, about, a, woman, who, joins, an, ...  \n",
       "3     [Marinette, and, Adrien,, two, normal, teens,,...  \n",
       "4     [An, apocalyptic, thriller, that, takes, place...  \n",
       "...                                                 ...  \n",
       "1982  [Marriage, is, not, always, a, forgone, conclu...  \n",
       "1983                                                 []  \n",
       "1985  [This, story, follows, Han, Yi, Na, a, vampire...  \n",
       "1986                                                 []  \n",
       "1987                                                 []  \n",
       "\n",
       "[1977 rows x 4 columns]"
      ]
     },
     "execution_count": 25,
     "metadata": {},
     "output_type": "execute_result"
    }
   ],
   "source": [
    "dataset"
   ]
  },
  {
   "cell_type": "code",
   "execution_count": 11,
   "metadata": {},
   "outputs": [
    {
     "name": "stdout",
     "output_type": "stream",
     "text": [
      "Hellbound : 13072200\n"
     ]
    }
   ],
   "source": [
    "#!pip install IMDbPY\n",
    "import imdb\n",
    "   \n",
    "# creating instance of IMDb\n",
    "ia = imdb.IMDb()\n",
    "   \n",
    "# name \n",
    "name = \"Hellbound\"\n",
    "   \n",
    "# searching the name \n",
    "search = ia.search_movie(name)\n",
    "print(search[i]['title'] + \" : \" + id )\n",
    "  \n",
    "# loop for printing the name and id\n",
    "#for i in range(len(search)):\n",
    "      \n",
    " #   # getting the id\n",
    "  #  id = search[i].movieID   \n",
    "    # printing it\n",
    "   # print(search[i]['title'] + \" : \" + id )"
   ]
  },
  {
   "cell_type": "code",
   "execution_count": 26,
   "metadata": {},
   "outputs": [
    {
     "data": {
      "text/plain": [
       "['Crime', ' Drama', ' Fantasy']"
      ]
     },
     "execution_count": 26,
     "metadata": {},
     "output_type": "execute_result"
    }
   ],
   "source": [
    "dataset[\"Genre\"][0]"
   ]
  },
  {
   "cell_type": "code",
   "execution_count": 27,
   "metadata": {},
   "outputs": [],
   "source": [
    "def collapse(L):\n",
    "    L1 = []\n",
    "    for i in L:\n",
    "        L1.append(i.replace(\" \",\"\"))\n",
    "    return L1"
   ]
  },
  {
   "cell_type": "code",
   "execution_count": 28,
   "metadata": {},
   "outputs": [],
   "source": [
    "dataset['Genre'] = dataset['Genre'].apply(collapse)"
   ]
  },
  {
   "cell_type": "code",
   "execution_count": 29,
   "metadata": {},
   "outputs": [],
   "source": [
    "dataset['Stars'] = dataset['Stars'].apply(collapse)"
   ]
  },
  {
   "cell_type": "code",
   "execution_count": 30,
   "metadata": {},
   "outputs": [
    {
     "data": {
      "text/plain": [
       "Title                                                  Hellbound\n",
       "Genre                                    [Crime, Drama, Fantasy]\n",
       "Stars                      [YooAh-in, KimHyun-joo, JeongMinPark]\n",
       "Short Story    [People, hear, predictions, on, when, they, wi...\n",
       "Name: 0, dtype: object"
      ]
     },
     "execution_count": 30,
     "metadata": {},
     "output_type": "execute_result"
    }
   ],
   "source": [
    "dataset.iloc[0]"
   ]
  },
  {
   "cell_type": "code",
   "execution_count": 31,
   "metadata": {},
   "outputs": [],
   "source": [
    "dataset['tags'] = dataset[\"Short Story\"] + dataset['Genre'] + dataset['Stars'] "
   ]
  },
  {
   "cell_type": "code",
   "execution_count": 32,
   "metadata": {},
   "outputs": [],
   "source": [
    "new=dataset.drop(columns=[\"Short Story\",'Genre','Stars'])"
   ]
  },
  {
   "cell_type": "code",
   "execution_count": 33,
   "metadata": {},
   "outputs": [
    {
     "data": {
      "text/html": [
       "<div>\n",
       "<style scoped>\n",
       "    .dataframe tbody tr th:only-of-type {\n",
       "        vertical-align: middle;\n",
       "    }\n",
       "\n",
       "    .dataframe tbody tr th {\n",
       "        vertical-align: top;\n",
       "    }\n",
       "\n",
       "    .dataframe thead th {\n",
       "        text-align: right;\n",
       "    }\n",
       "</style>\n",
       "<table border=\"1\" class=\"dataframe\">\n",
       "  <thead>\n",
       "    <tr style=\"text-align: right;\">\n",
       "      <th></th>\n",
       "      <th>Title</th>\n",
       "      <th>tags</th>\n",
       "    </tr>\n",
       "  </thead>\n",
       "  <tbody>\n",
       "    <tr>\n",
       "      <th>0</th>\n",
       "      <td>Hellbound</td>\n",
       "      <td>People hear predictions on when they will die....</td>\n",
       "    </tr>\n",
       "    <tr>\n",
       "      <th>1</th>\n",
       "      <td>Squid Game</td>\n",
       "      <td>Hundreds of cash-strapped players accept a str...</td>\n",
       "    </tr>\n",
       "    <tr>\n",
       "      <th>2</th>\n",
       "      <td>My Name</td>\n",
       "      <td>The story about a woman who joins an organized...</td>\n",
       "    </tr>\n",
       "    <tr>\n",
       "      <th>3</th>\n",
       "      <td>Miraculous: Tales of Ladybug &amp; Cat Noir</td>\n",
       "      <td>Marinette and Adrien, two normal teens, transf...</td>\n",
       "    </tr>\n",
       "    <tr>\n",
       "      <th>4</th>\n",
       "      <td>Happiness</td>\n",
       "      <td>An apocalyptic thriller that takes place in a ...</td>\n",
       "    </tr>\n",
       "  </tbody>\n",
       "</table>\n",
       "</div>"
      ],
      "text/plain": [
       "                                     Title  \\\n",
       "0                                Hellbound   \n",
       "1                               Squid Game   \n",
       "2                                  My Name   \n",
       "3  Miraculous: Tales of Ladybug & Cat Noir   \n",
       "4                                Happiness   \n",
       "\n",
       "                                                tags  \n",
       "0  People hear predictions on when they will die....  \n",
       "1  Hundreds of cash-strapped players accept a str...  \n",
       "2  The story about a woman who joins an organized...  \n",
       "3  Marinette and Adrien, two normal teens, transf...  \n",
       "4  An apocalyptic thriller that takes place in a ...  "
      ]
     },
     "execution_count": 33,
     "metadata": {},
     "output_type": "execute_result"
    }
   ],
   "source": [
    "new['tags'] = new['tags'].apply(lambda x: \" \".join(x))\n",
    "new.head()"
   ]
  },
  {
   "cell_type": "code",
   "execution_count": 34,
   "metadata": {},
   "outputs": [],
   "source": [
    "from sklearn.feature_extraction.text import CountVectorizer\n",
    "cv = CountVectorizer(max_features=5000,stop_words='english')\n",
    "    "
   ]
  },
  {
   "cell_type": "code",
   "execution_count": 35,
   "metadata": {},
   "outputs": [],
   "source": [
    "vector = cv.fit_transform(new['tags']).toarray()"
   ]
  },
  {
   "cell_type": "code",
   "execution_count": 36,
   "metadata": {},
   "outputs": [
    {
     "data": {
      "text/plain": [
       "(1977, 5000)"
      ]
     },
     "execution_count": 36,
     "metadata": {},
     "output_type": "execute_result"
    }
   ],
   "source": [
    "vector.shape"
   ]
  },
  {
   "cell_type": "code",
   "execution_count": 37,
   "metadata": {},
   "outputs": [],
   "source": [
    "from sklearn.metrics.pairwise import cosine_similarity"
   ]
  },
  {
   "cell_type": "code",
   "execution_count": 38,
   "metadata": {},
   "outputs": [],
   "source": [
    "similarity = cosine_similarity(vector)"
   ]
  },
  {
   "cell_type": "code",
   "execution_count": 39,
   "metadata": {},
   "outputs": [
    {
     "data": {
      "text/plain": [
       "array([[1.        , 0.04564355, 0.20655911, ..., 0.05634362, 0.        ,\n",
       "        0.        ],\n",
       "       [0.04564355, 1.        , 0.07071068, ..., 0.        , 0.        ,\n",
       "        0.        ],\n",
       "       [0.20655911, 0.07071068, 1.        , ..., 0.04364358, 0.08164966,\n",
       "        0.        ],\n",
       "       ...,\n",
       "       [0.05634362, 0.        , 0.04364358, ..., 1.        , 0.08908708,\n",
       "        0.21821789],\n",
       "       [0.        , 0.        , 0.08164966, ..., 0.08908708, 1.        ,\n",
       "        0.40824829],\n",
       "       [0.        , 0.        , 0.        , ..., 0.21821789, 0.40824829,\n",
       "        1.        ]])"
      ]
     },
     "execution_count": 39,
     "metadata": {},
     "output_type": "execute_result"
    }
   ],
   "source": [
    "similarity"
   ]
  },
  {
   "cell_type": "code",
   "execution_count": 40,
   "metadata": {},
   "outputs": [
    {
     "data": {
      "text/plain": [
       "0"
      ]
     },
     "execution_count": 40,
     "metadata": {},
     "output_type": "execute_result"
    }
   ],
   "source": [
    "new[new['Title'] == 'Hellbound'].index[0]"
   ]
  },
  {
   "cell_type": "code",
   "execution_count": 41,
   "metadata": {},
   "outputs": [],
   "source": [
    "def recommend(kdrama):\n",
    "    index = new[new['Title'] == kdrama].index[0]\n",
    "    distances = sorted(list(enumerate(similarity[index])),reverse=True,key = lambda x: x[1])\n",
    "    for i in distances[1:6]:\n",
    "        print(new.iloc[i[0]].Title)"
   ]
  },
  {
   "cell_type": "code",
   "execution_count": 42,
   "metadata": {},
   "outputs": [
    {
     "name": "stdout",
     "output_type": "stream",
     "text": [
      "ATM\n",
      "Jo-kang-ji-cheo Keul-leob\n",
      "Kairos\n",
      "Three Days\n",
      "Street Fighter\n"
     ]
    }
   ],
   "source": [
    "recommend('Happiness')"
   ]
  },
  {
   "cell_type": "code",
   "execution_count": 43,
   "metadata": {},
   "outputs": [],
   "source": [
    "import pickle\n",
    "pickle.dump(new,open('kdramas_list.pkl','wb'))\n",
    "pickle.dump(similarity,open('similarity.pkl','wb'))"
   ]
  },
  {
   "cell_type": "code",
   "execution_count": null,
   "metadata": {},
   "outputs": [],
   "source": []
  }
 ],
 "metadata": {
  "kernelspec": {
   "display_name": "Python 3",
   "language": "python",
   "name": "python3"
  },
  "language_info": {
   "codemirror_mode": {
    "name": "ipython",
    "version": 3
   },
   "file_extension": ".py",
   "mimetype": "text/x-python",
   "name": "python",
   "nbconvert_exporter": "python",
   "pygments_lexer": "ipython3",
   "version": "3.8.5"
  }
 },
 "nbformat": 4,
 "nbformat_minor": 4
}
